{
 "cells": [
  {
   "attachments": {},
   "cell_type": "markdown",
   "metadata": {},
   "source": [
    "# 1.1.0 Decennial Census of Population and Housing"
   ]
  },
  {
   "cell_type": "code",
   "execution_count": 1,
   "metadata": {},
   "outputs": [],
   "source": [
    "%load_ext autoreload\n",
    "%autoreload 2"
   ]
  },
  {
   "cell_type": "code",
   "execution_count": 2,
   "metadata": {},
   "outputs": [],
   "source": [
    "import pandas as pd\n",
    "import numpy as np\n",
    "\n",
    "import matplotlib.pyplot as plt\n",
    "import seaborn as sns\n",
    "import plotly.express as px\n",
    "\n",
    "import requests\n",
    "\n",
    "pd.set_option('display.max_columns', None)\n",
    "pd.set_option('display.max_rows', None)\n",
    "import warnings\n",
    "warnings.filterwarnings(\"ignore\")"
   ]
  },
  {
   "cell_type": "code",
   "execution_count": 3,
   "metadata": {},
   "outputs": [],
   "source": [
    "import sys\n",
    "sys.path.append(\"../\") \n",
    "\n",
    "from utils.paths import make_dir_line\n",
    "\n",
    "modality = 'c'\n",
    "project = 'Analyzing US Census Data in Python'\n",
    "data = make_dir_line(modality, project)\n",
    "\n",
    "raw = data('raw')"
   ]
  },
  {
   "attachments": {},
   "cell_type": "markdown",
   "metadata": {},
   "source": [
    "## 1.1.2 Aggregate and Calculate Proportions"
   ]
  },
  {
   "cell_type": "code",
   "execution_count": 4,
   "metadata": {},
   "outputs": [
    {
     "name": "stdout",
     "output_type": "stream",
     "text": [
      "<class 'pandas.core.frame.DataFrame'>\n",
      "Index: 52 entries, Alabama to Wyoming\n",
      "Data columns (total 17 columns):\n",
      " #   Column                Non-Null Count  Dtype\n",
      "---  ------                --------------  -----\n",
      " 0   total                 52 non-null     int64\n",
      " 1   nonhispanic           52 non-null     int64\n",
      " 2   white                 52 non-null     int64\n",
      " 3   black                 52 non-null     int64\n",
      " 4   aian                  52 non-null     int64\n",
      " 5   asian                 52 non-null     int64\n",
      " 6   pacific               52 non-null     int64\n",
      " 7   other                 52 non-null     int64\n",
      " 8   multiracial           52 non-null     int64\n",
      " 9   hispanic              52 non-null     int64\n",
      " 10  hispanic_white        52 non-null     int64\n",
      " 11  hispanic_black        52 non-null     int64\n",
      " 12  hispanic_aian         52 non-null     int64\n",
      " 13  hispanic_asian        52 non-null     int64\n",
      " 14  hispanic_pacific      52 non-null     int64\n",
      " 15  hispanic_other        52 non-null     int64\n",
      " 16  hispanic_multiracial  52 non-null     int64\n",
      "dtypes: int64(17)\n",
      "memory usage: 7.3+ KB\n",
      "None\n"
     ]
    },
    {
     "data": {
      "text/html": [
       "<div>\n",
       "<style scoped>\n",
       "    .dataframe tbody tr th:only-of-type {\n",
       "        vertical-align: middle;\n",
       "    }\n",
       "\n",
       "    .dataframe tbody tr th {\n",
       "        vertical-align: top;\n",
       "    }\n",
       "\n",
       "    .dataframe thead th {\n",
       "        text-align: right;\n",
       "    }\n",
       "</style>\n",
       "<table border=\"1\" class=\"dataframe\">\n",
       "  <thead>\n",
       "    <tr style=\"text-align: right;\">\n",
       "      <th></th>\n",
       "      <th>total</th>\n",
       "      <th>nonhispanic</th>\n",
       "      <th>white</th>\n",
       "      <th>black</th>\n",
       "      <th>aian</th>\n",
       "      <th>asian</th>\n",
       "      <th>pacific</th>\n",
       "      <th>other</th>\n",
       "      <th>multiracial</th>\n",
       "      <th>hispanic</th>\n",
       "      <th>hispanic_white</th>\n",
       "      <th>hispanic_black</th>\n",
       "      <th>hispanic_aian</th>\n",
       "      <th>hispanic_asian</th>\n",
       "      <th>hispanic_pacific</th>\n",
       "      <th>hispanic_other</th>\n",
       "      <th>hispanic_multiracial</th>\n",
       "    </tr>\n",
       "  </thead>\n",
       "  <tbody>\n",
       "    <tr>\n",
       "      <th>Alabama</th>\n",
       "      <td>4779736</td>\n",
       "      <td>4594134</td>\n",
       "      <td>3204402</td>\n",
       "      <td>1244437</td>\n",
       "      <td>25907</td>\n",
       "      <td>52937</td>\n",
       "      <td>1976</td>\n",
       "      <td>4030</td>\n",
       "      <td>60445</td>\n",
       "      <td>185602</td>\n",
       "      <td>70992</td>\n",
       "      <td>6874</td>\n",
       "      <td>2311</td>\n",
       "      <td>658</td>\n",
       "      <td>1081</td>\n",
       "      <td>92880</td>\n",
       "      <td>10806</td>\n",
       "    </tr>\n",
       "    <tr>\n",
       "      <th>Alaska</th>\n",
       "      <td>710231</td>\n",
       "      <td>670982</td>\n",
       "      <td>455320</td>\n",
       "      <td>21949</td>\n",
       "      <td>102556</td>\n",
       "      <td>37459</td>\n",
       "      <td>7219</td>\n",
       "      <td>1111</td>\n",
       "      <td>45368</td>\n",
       "      <td>39249</td>\n",
       "      <td>18256</td>\n",
       "      <td>1314</td>\n",
       "      <td>2315</td>\n",
       "      <td>676</td>\n",
       "      <td>190</td>\n",
       "      <td>9991</td>\n",
       "      <td>6507</td>\n",
       "    </tr>\n",
       "    <tr>\n",
       "      <th>Arizona</th>\n",
       "      <td>6392017</td>\n",
       "      <td>4496868</td>\n",
       "      <td>3695647</td>\n",
       "      <td>239101</td>\n",
       "      <td>257426</td>\n",
       "      <td>170509</td>\n",
       "      <td>10959</td>\n",
       "      <td>8595</td>\n",
       "      <td>114631</td>\n",
       "      <td>1895149</td>\n",
       "      <td>971474</td>\n",
       "      <td>19907</td>\n",
       "      <td>39103</td>\n",
       "      <td>6186</td>\n",
       "      <td>1689</td>\n",
       "      <td>753121</td>\n",
       "      <td>103669</td>\n",
       "    </tr>\n",
       "    <tr>\n",
       "      <th>Arkansas</th>\n",
       "      <td>2915918</td>\n",
       "      <td>2729868</td>\n",
       "      <td>2173469</td>\n",
       "      <td>447102</td>\n",
       "      <td>20183</td>\n",
       "      <td>35647</td>\n",
       "      <td>5509</td>\n",
       "      <td>2121</td>\n",
       "      <td>45837</td>\n",
       "      <td>186050</td>\n",
       "      <td>71760</td>\n",
       "      <td>2793</td>\n",
       "      <td>2065</td>\n",
       "      <td>455</td>\n",
       "      <td>354</td>\n",
       "      <td>97450</td>\n",
       "      <td>11173</td>\n",
       "    </tr>\n",
       "    <tr>\n",
       "      <th>California</th>\n",
       "      <td>37253956</td>\n",
       "      <td>23240237</td>\n",
       "      <td>14956253</td>\n",
       "      <td>2163804</td>\n",
       "      <td>162250</td>\n",
       "      <td>4775070</td>\n",
       "      <td>128577</td>\n",
       "      <td>85587</td>\n",
       "      <td>968696</td>\n",
       "      <td>14013719</td>\n",
       "      <td>6497681</td>\n",
       "      <td>135268</td>\n",
       "      <td>200551</td>\n",
       "      <td>85937</td>\n",
       "      <td>15809</td>\n",
       "      <td>6231785</td>\n",
       "      <td>846688</td>\n",
       "    </tr>\n",
       "  </tbody>\n",
       "</table>\n",
       "</div>"
      ],
      "text/plain": [
       "               total  nonhispanic     white    black    aian    asian   \n",
       "Alabama      4779736      4594134   3204402  1244437   25907    52937  \\\n",
       "Alaska        710231       670982    455320    21949  102556    37459   \n",
       "Arizona      6392017      4496868   3695647   239101  257426   170509   \n",
       "Arkansas     2915918      2729868   2173469   447102   20183    35647   \n",
       "California  37253956     23240237  14956253  2163804  162250  4775070   \n",
       "\n",
       "            pacific  other  multiracial  hispanic  hispanic_white   \n",
       "Alabama        1976   4030        60445    185602           70992  \\\n",
       "Alaska         7219   1111        45368     39249           18256   \n",
       "Arizona       10959   8595       114631   1895149          971474   \n",
       "Arkansas       5509   2121        45837    186050           71760   \n",
       "California   128577  85587       968696  14013719         6497681   \n",
       "\n",
       "            hispanic_black  hispanic_aian  hispanic_asian  hispanic_pacific   \n",
       "Alabama               6874           2311             658              1081  \\\n",
       "Alaska                1314           2315             676               190   \n",
       "Arizona              19907          39103            6186              1689   \n",
       "Arkansas              2793           2065             455               354   \n",
       "California          135268         200551           85937             15809   \n",
       "\n",
       "            hispanic_other  hispanic_multiracial  \n",
       "Alabama              92880                 10806  \n",
       "Alaska                9991                  6507  \n",
       "Arizona             753121                103669  \n",
       "Arkansas             97450                 11173  \n",
       "California         6231785                846688  "
      ]
     },
     "execution_count": 4,
     "metadata": {},
     "output_type": "execute_result"
    }
   ],
   "source": [
    "states = pd.read_csv(raw / \"states.csv\", sep=',', index_col=0)\n",
    "print(states.info())\n",
    "states.head()"
   ]
  },
  {
   "cell_type": "code",
   "execution_count": 5,
   "metadata": {},
   "outputs": [
    {
     "name": "stdout",
     "output_type": "stream",
     "text": [
      "54.5246839030109\n"
     ]
    }
   ],
   "source": [
    "# What percentage of Hispanics identify as White?\n",
    "print(100 * states['hispanic_white'].sum() / states['hispanic'].sum())"
   ]
  },
  {
   "cell_type": "code",
   "execution_count": 6,
   "metadata": {},
   "outputs": [
    {
     "name": "stdout",
     "output_type": "stream",
     "text": [
      "hispanic_white          54.524684\n",
      "hispanic_black           3.139062\n",
      "hispanic_aian            1.300926\n",
      "hispanic_asian           0.393289\n",
      "hispanic_pacific         0.108426\n",
      "hispanic_other          34.693285\n",
      "hispanic_multiracial     5.840328\n",
      "dtype: float64\n"
     ]
    }
   ],
   "source": [
    "# Set list of Hispanic race column names\n",
    "hispanic_races = [\n",
    "    \"hispanic_white\", \n",
    "    \"hispanic_black\", \"hispanic_aian\", \n",
    "    \"hispanic_asian\", \"hispanic_pacific\", \n",
    "    \"hispanic_other\", \"hispanic_multiracial\"\n",
    "    ]\n",
    "\n",
    "# What percentage of Hispanics identify as each race?\n",
    "print(100 * states[hispanic_races].sum() / states[\"hispanic\"].sum())"
   ]
  },
  {
   "attachments": {},
   "cell_type": "markdown",
   "metadata": {},
   "source": [
    "Nationally, 55% of Hispanics identify as White and 35% identify as \"Some Other Race\". Now we will calculate similar percentages for individual states.\n",
    "\n",
    "## 0.1.3 Calculate Proportions"
   ]
  },
  {
   "cell_type": "code",
   "execution_count": 7,
   "metadata": {},
   "outputs": [
    {
     "name": "stdout",
     "output_type": "stream",
     "text": [
      "hispanic_white          54.524684\n",
      "hispanic_black           3.139062\n",
      "hispanic_aian            1.300926\n",
      "hispanic_asian           0.393289\n",
      "hispanic_pacific         0.108426\n",
      "hispanic_other          34.693285\n",
      "hispanic_multiracial     5.840328\n",
      "dtype: float64\n",
      "            hispanic_white  hispanic_black  hispanic_aian  hispanic_asian  \\\n",
      "Alabama          38.249588        3.703624       1.245137        0.354522   \n",
      "Alaska           46.513287        3.347856       5.898239        1.722337   \n",
      "Arizona          51.261088        1.050419       2.063321        0.326412   \n",
      "Arkansas         38.570277        1.501209       1.109917        0.244558   \n",
      "California       46.366571        0.965254       1.431105        0.613235   \n",
      "\n",
      "            hispanic_pacific  hispanic_other  hispanic_multiracial  \n",
      "Alabama             0.582429       50.042564              5.822136  \n",
      "Alaska              0.484089       25.455426             16.578766  \n",
      "Arizona             0.089122       39.739408              5.470230  \n",
      "Arkansas            0.190271       52.378393              6.005375  \n",
      "California          0.112811       44.469173              6.041851  \n"
     ]
    }
   ],
   "source": [
    "# What percentage of Hispanics identify as each race?\n",
    "print(100 * states[hispanic_races].sum() / states[\"hispanic\"].sum())\n",
    "\n",
    "# Create a deep copy of only the Hispanic race columns\n",
    "states_hr = states[hispanic_races].copy()\n",
    "\n",
    "# Calculate percentages for all columns in the date frame\n",
    "for race in hispanic_races:\n",
    "    states_hr[race] = 100 * states_hr[race] / states[\"hispanic\"]\n",
    "\n",
    "# View the result\n",
    "print(states_hr.head())"
   ]
  },
  {
   "attachments": {},
   "cell_type": "markdown",
   "metadata": {},
   "source": [
    "## 0.1.4 Identify Extreme Values"
   ]
  },
  {
   "cell_type": "code",
   "execution_count": 8,
   "metadata": {},
   "outputs": [
    {
     "data": {
      "image/png": "[encoded data removed]",
      "text/plain": [
       "<Figure size 640x480 with 1 Axes>"
      ]
     },
     "metadata": {},
     "output_type": "display_data"
    }
   ],
   "source": [
    "# Create a boxplot\n",
    "sns.boxplot(data = states_hr, orient = \"h\")\n",
    "plt.show()"
   ]
  },
  {
   "cell_type": "code",
   "execution_count": 9,
   "metadata": {},
   "outputs": [
    {
     "name": "stdout",
     "output_type": "stream",
     "text": [
      "hispanic_white          76.339680\n",
      "hispanic_black           3.521989\n",
      "hispanic_aian            0.572777\n",
      "hispanic_asian           0.227402\n",
      "hispanic_pacific         0.060633\n",
      "hispanic_other          14.978955\n",
      "hispanic_multiracial     4.298564\n",
      "Name: Florida, dtype: float64\n"
     ]
    }
   ],
   "source": [
    "print(states_hr.nlargest(1, states_hr).squeeze())"
   ]
  },
  {
   "cell_type": "code",
   "execution_count": 10,
   "metadata": {},
   "outputs": [
    {
     "name": "stdout",
     "output_type": "stream",
     "text": [
      "hispanic_white          76.339680\n",
      "hispanic_black           3.521989\n",
      "hispanic_aian            0.572777\n",
      "hispanic_asian           0.227402\n",
      "hispanic_pacific         0.060633\n",
      "hispanic_other          14.978955\n",
      "hispanic_multiracial     4.298564\n",
      "Name: Florida, dtype: float64\n"
     ]
    }
   ],
   "source": [
    "print(states_hr.nlargest(1, \"hispanic_white\").squeeze())"
   ]
  },
  {
   "cell_type": "code",
   "execution_count": 11,
   "metadata": {},
   "outputs": [
    {
     "name": "stdout",
     "output_type": "stream",
     "text": [
      "hispanic_white          75.862495\n",
      "hispanic_black          12.385538\n",
      "hispanic_aian            0.528948\n",
      "hispanic_asian           0.105762\n",
      "hispanic_pacific         0.007944\n",
      "hispanic_other           7.831978\n",
      "hispanic_multiracial     3.277334\n",
      "Name: Puerto Rico, dtype: float64\n"
     ]
    }
   ],
   "source": [
    "print(states_hr.nsmallest(1, \"hispanic_other\").squeeze())"
   ]
  },
  {
   "cell_type": "code",
   "execution_count": 12,
   "metadata": {},
   "outputs": [
    {
     "name": "stdout",
     "output_type": "stream",
     "text": [
      "hispanic_white          22.555072\n",
      "hispanic_black           1.257841\n",
      "hispanic_aian            1.109714\n",
      "hispanic_asian           9.751576\n",
      "hispanic_pacific         5.958193\n",
      "hispanic_other          12.493173\n",
      "hispanic_multiracial    46.874431\n",
      "Name: Hawaii, dtype: float64\n"
     ]
    }
   ],
   "source": [
    "print(states_hr.nlargest(1, \"hispanic_asian\").squeeze())"
   ]
  },
  {
   "attachments": {},
   "cell_type": "markdown",
   "metadata": {},
   "source": [
    "## 0.1.6 The Basic API Request"
   ]
  },
  {
   "cell_type": "code",
   "execution_count": 13,
   "metadata": {},
   "outputs": [],
   "source": [
    "# Build base URL\n",
    "HOST = \"https://api.census.gov/data\"\n",
    "year = '2010'\n",
    "dataset = 'dec/sf1'\n",
    "base_url = \"/\".join([HOST, year, dataset])\n",
    "\n",
    "# Specify Census variables and other predicates\n",
    "get_vars = ['NAME','P013001','P037001']\n",
    "predicates = {}\n",
    "predicates[\"get\"] = \",\".join(get_vars)\n",
    "predicates[\"for\"] = \"state:*\""
   ]
  },
  {
   "cell_type": "code",
   "execution_count": 14,
   "metadata": {},
   "outputs": [
    {
     "name": "stdout",
     "output_type": "stream",
     "text": [
      "[[\"NAME\",\"P013001\",\"P037001\",\"state\"],\n",
      "[\"Alabama\",\"37.9\",\"3.02\",\"01\"],\n",
      "[\"Alaska\",\"33.8\",\"3.21\",\"02\"],\n",
      "[\"Arizona\",\"35.9\",\"3.19\",\"04\"],\n",
      "[\"Arkansas\",\"37.4\",\"3.00\",\"05\"],\n",
      "[\"California\",\"35.2\",\"3.45\",\"06\"],\n",
      "[\"Louisiana\",\"35.8\",\"3.10\",\"22\"],\n",
      "[\"Kentucky\",\"38.1\",\"2.98\",\"21\"],\n",
      "[\"Colorado\",\"36.1\",\"3.08\",\"08\"],\n",
      "[\"Connecticut\",\"40.0\",\"3.08\",\"09\"],\n",
      "[\"Delaware\",\"38.8\",\"3.06\",\"10\"],\n",
      "[\"District of Columbia\",\"33.8\",\"3.01\",\"11\"],\n",
      "[\"Florida\",\"40.7\",\"3.01\",\"12\"],\n",
      "[\"Georgia\",\"35.3\",\"3.17\",\"13\"],\n",
      "[\"Hawaii\",\"38.6\",\"3.42\",\"15\"],\n",
      "[\"Idaho\",\"34.6\",\"3.16\",\"16\"],\n",
      "[\"Illinois\",\"36.6\",\"3.20\",\"17\"],\n",
      "[\"Indiana\",\"37.0\",\"3.05\",\"18\"],\n",
      "[\"Iowa\",\"38.1\",\"2.97\",\"19\"],\n",
      "[\"Kansas\",\"36.0\",\"3.06\",\"20\"],\n",
      "[\"Maine\",\"42.7\",\"2.83\",\"23\"],\n",
      "[\"Maryland\",\"38.0\",\"3.15\",\"24\"],\n",
      "[\"Massachusetts\",\"39.1\",\"3.08\",\"25\"],\n",
      "[\"Michigan\",\"38.9\",\"3.05\",\"26\"],\n",
      "[\"Minnesota\",\"37.4\",\"3.05\",\"27\"],\n",
      "[\"Mississippi\",\"36.0\",\"3.11\",\"28\"],\n",
      "[\"Missouri\",\"37.9\",\"3.00\",\"29\"],\n",
      "[\"Montana\",\"39.8\",\"2.91\",\"30\"],\n",
      "[\"Nebraska\",\"36.2\",\"3.04\",\"31\"],\n",
      "[\"Nevada\",\"36.3\",\"3.20\",\"32\"],\n",
      "[\"New Hampshire\",\"41.1\",\"2.96\",\"33\"],\n",
      "[\"New Jersey\",\"39.0\",\"3.22\",\"34\"],\n",
      "[\"New Mexico\",\"36.7\",\"3.13\",\"35\"],\n",
      "[\"New York\",\"38.0\",\"3.20\",\"36\"],\n",
      "[\"North Carolina\",\"37.4\",\"3.01\",\"37\"],\n",
      "[\"North Dakota\",\"37.0\",\"2.91\",\"38\"],\n",
      "[\"Ohio\",\"38.8\",\"3.01\",\"39\"],\n",
      "[\"Oklahoma\",\"36.2\",\"3.04\",\"40\"],\n",
      "[\"Oregon\",\"38.4\",\"3.00\",\"41\"],\n",
      "[\"Pennsylvania\",\"40.1\",\"3.02\",\"42\"],\n",
      "[\"Rhode Island\",\"39.4\",\"3.04\",\"44\"],\n",
      "[\"South Carolina\",\"37.9\",\"3.01\",\"45\"],\n",
      "[\"South Dakota\",\"36.9\",\"3.00\",\"46\"],\n",
      "[\"Tennessee\",\"38.0\",\"3.01\",\"47\"],\n",
      "[\"Texas\",\"33.6\",\"3.31\",\"48\"],\n",
      "[\"Utah\",\"29.2\",\"3.56\",\"49\"],\n",
      "[\"Vermont\",\"41.5\",\"2.85\",\"50\"],\n",
      "[\"Virginia\",\"37.5\",\"3.06\",\"51\"],\n",
      "[\"Washington\",\"37.3\",\"3.06\",\"53\"],\n",
      "[\"West Virginia\",\"41.3\",\"2.88\",\"54\"],\n",
      "[\"Wisconsin\",\"38.5\",\"2.99\",\"55\"],\n",
      "[\"Wyoming\",\"36.8\",\"2.96\",\"56\"],\n",
      "[\"Puerto Rico\",\"36.9\",\"3.17\",\"72\"]]\n"
     ]
    }
   ],
   "source": [
    "# Execute the request, examine text of response object\n",
    "r = requests.get(base_url, params=predicates)\n",
    "print(r.text)"
   ]
  },
  {
   "attachments": {},
   "cell_type": "markdown",
   "metadata": {},
   "source": [
    "## 0.1.7 The API Response and Pandas"
   ]
  },
  {
   "cell_type": "code",
   "execution_count": 15,
   "metadata": {},
   "outputs": [],
   "source": [
    "# Construct the DataFrame\n",
    "col_names = ['name', 'median_age','avg_family_size','state']\n",
    "states = pd.DataFrame(columns = col_names, data = r.json()[1:])\n",
    "\n",
    "# Convert each column with numeric data to an appropriate type\n",
    "states[\"median_age\"] = states[\"median_age\"].astype(float)\n",
    "states[\"avg_family_size\"] = states[\"avg_family_size\"].astype(float)"
   ]
  },
  {
   "cell_type": "code",
   "execution_count": 16,
   "metadata": {},
   "outputs": [
    {
     "data": {
      "image/png": "[encoded data removed]",
      "text/plain": [
       "<Figure size 500x500 with 1 Axes>"
      ]
     },
     "metadata": {},
     "output_type": "display_data"
    }
   ],
   "source": [
    "# Scatterplot with regression line\n",
    "sns.lmplot(x = \"avg_family_size\", y = \"median_age\", data = states)\n",
    "plt.show()"
   ]
  },
  {
   "cell_type": "code",
   "execution_count": 17,
   "metadata": {},
   "outputs": [
    {
     "data": {
      "text/html": [
       "<div>\n",
       "<style scoped>\n",
       "    .dataframe tbody tr th:only-of-type {\n",
       "        vertical-align: middle;\n",
       "    }\n",
       "\n",
       "    .dataframe tbody tr th {\n",
       "        vertical-align: top;\n",
       "    }\n",
       "\n",
       "    .dataframe thead th {\n",
       "        text-align: right;\n",
       "    }\n",
       "</style>\n",
       "<table border=\"1\" class=\"dataframe\">\n",
       "  <thead>\n",
       "    <tr style=\"text-align: right;\">\n",
       "      <th></th>\n",
       "      <th>name</th>\n",
       "      <th>median_age</th>\n",
       "      <th>avg_family_size</th>\n",
       "      <th>state</th>\n",
       "    </tr>\n",
       "  </thead>\n",
       "  <tbody>\n",
       "    <tr>\n",
       "      <th>0</th>\n",
       "      <td>Alabama</td>\n",
       "      <td>37.9</td>\n",
       "      <td>3.02</td>\n",
       "      <td>01</td>\n",
       "    </tr>\n",
       "    <tr>\n",
       "      <th>1</th>\n",
       "      <td>Alaska</td>\n",
       "      <td>33.8</td>\n",
       "      <td>3.21</td>\n",
       "      <td>02</td>\n",
       "    </tr>\n",
       "    <tr>\n",
       "      <th>2</th>\n",
       "      <td>Arizona</td>\n",
       "      <td>35.9</td>\n",
       "      <td>3.19</td>\n",
       "      <td>04</td>\n",
       "    </tr>\n",
       "    <tr>\n",
       "      <th>3</th>\n",
       "      <td>Arkansas</td>\n",
       "      <td>37.4</td>\n",
       "      <td>3.00</td>\n",
       "      <td>05</td>\n",
       "    </tr>\n",
       "    <tr>\n",
       "      <th>4</th>\n",
       "      <td>California</td>\n",
       "      <td>35.2</td>\n",
       "      <td>3.45</td>\n",
       "      <td>06</td>\n",
       "    </tr>\n",
       "  </tbody>\n",
       "</table>\n",
       "</div>"
      ],
      "text/plain": [
       "         name  median_age  avg_family_size state\n",
       "0     Alabama        37.9             3.02    01\n",
       "1      Alaska        33.8             3.21    02\n",
       "2     Arizona        35.9             3.19    04\n",
       "3    Arkansas        37.4             3.00    05\n",
       "4  California        35.2             3.45    06"
      ]
     },
     "execution_count": 17,
     "metadata": {},
     "output_type": "execute_result"
    }
   ],
   "source": [
    "states.head()"
   ]
  },
  {
   "attachments": {},
   "cell_type": "markdown",
   "metadata": {},
   "source": [
    "## 0.1.8 API to Visualization: Group Quarters"
   ]
  },
  {
   "cell_type": "code",
   "execution_count": 18,
   "metadata": {},
   "outputs": [],
   "source": [
    "# Specify variables and execute API request\n",
    "get_vars = [\"NAME\", \"PCT021005\", \"PCT021015\"]\n",
    "predicates[\"get\"] = \",\".join(get_vars)\n",
    "r = requests.get(base_url, params=predicates)"
   ]
  },
  {
   "cell_type": "code",
   "execution_count": 19,
   "metadata": {},
   "outputs": [
    {
     "data": {
      "text/html": [
       "<div>\n",
       "<style scoped>\n",
       "    .dataframe tbody tr th:only-of-type {\n",
       "        vertical-align: middle;\n",
       "    }\n",
       "\n",
       "    .dataframe tbody tr th {\n",
       "        vertical-align: top;\n",
       "    }\n",
       "\n",
       "    .dataframe thead th {\n",
       "        text-align: right;\n",
       "    }\n",
       "</style>\n",
       "<table border=\"1\" class=\"dataframe\">\n",
       "  <thead>\n",
       "    <tr style=\"text-align: right;\">\n",
       "      <th></th>\n",
       "      <th>name</th>\n",
       "      <th>in_adult</th>\n",
       "      <th>in_juvenile</th>\n",
       "      <th>state</th>\n",
       "      <th>pct_in_adult</th>\n",
       "    </tr>\n",
       "  </thead>\n",
       "  <tbody>\n",
       "    <tr>\n",
       "      <th>40</th>\n",
       "      <td>South Carolina</td>\n",
       "      <td>451</td>\n",
       "      <td>265</td>\n",
       "      <td>45</td>\n",
       "      <td>62.988827</td>\n",
       "    </tr>\n",
       "    <tr>\n",
       "      <th>33</th>\n",
       "      <td>North Carolina</td>\n",
       "      <td>655</td>\n",
       "      <td>552</td>\n",
       "      <td>37</td>\n",
       "      <td>54.266777</td>\n",
       "    </tr>\n",
       "    <tr>\n",
       "      <th>2</th>\n",
       "      <td>Arizona</td>\n",
       "      <td>681</td>\n",
       "      <td>629</td>\n",
       "      <td>04</td>\n",
       "      <td>51.984733</td>\n",
       "    </tr>\n",
       "    <tr>\n",
       "      <th>10</th>\n",
       "      <td>District of Columbia</td>\n",
       "      <td>28</td>\n",
       "      <td>27</td>\n",
       "      <td>11</td>\n",
       "      <td>50.909091</td>\n",
       "    </tr>\n",
       "    <tr>\n",
       "      <th>1</th>\n",
       "      <td>Alaska</td>\n",
       "      <td>83</td>\n",
       "      <td>92</td>\n",
       "      <td>02</td>\n",
       "      <td>47.428571</td>\n",
       "    </tr>\n",
       "  </tbody>\n",
       "</table>\n",
       "</div>"
      ],
      "text/plain": [
       "                    name  in_adult  in_juvenile state  pct_in_adult\n",
       "40        South Carolina       451          265    45     62.988827\n",
       "33        North Carolina       655          552    37     54.266777\n",
       "2                Arizona       681          629    04     51.984733\n",
       "10  District of Columbia        28           27    11     50.909091\n",
       "1                 Alaska        83           92    02     47.428571"
      ]
     },
     "execution_count": 19,
     "metadata": {},
     "output_type": "execute_result"
    }
   ],
   "source": [
    "# Construct DataFrame\n",
    "col_names = [\"name\", \"in_adult\", \"in_juvenile\", \"state\"]\n",
    "states = pd.DataFrame(columns=col_names, data=r.json()[1:])\n",
    "states[[\"in_adult\", \"in_juvenile\"]] = states[[\"in_adult\", \"in_juvenile\"]].astype(int)\n",
    "# Calculate percentage of incarcerated male minors in adult facilities\n",
    "states[\"pct_in_adult\"] = 100 * states[\"in_adult\"] / (states[\"in_adult\"] + states[\"in_juvenile\"])\n",
    "states.sort_values(by = \"pct_in_adult\", ascending = False, inplace = True)\n",
    "states.head()"
   ]
  },
  {
   "cell_type": "code",
   "execution_count": 20,
   "metadata": {},
   "outputs": [
    {
     "data": {
      "image/png": "[encoded data removed]",
      "text/plain": [
       "<Figure size 640x480 with 1 Axes>"
      ]
     },
     "metadata": {},
     "output_type": "display_data"
    }
   ],
   "source": [
    "sns.stripplot(x = \"pct_in_adult\", y = \"name\", data = states)\n",
    "plt.show()"
   ]
  },
  {
   "attachments": {},
   "cell_type": "markdown",
   "metadata": {},
   "source": [
    "Notice that Southern states top the chart, w(hile some states are at or near 0%.\n",
    "\n",
    "## 0.1.10 Specific Places\n",
    "\n",
    "https://mcdc.missouri.edu/applications/geocodes/?state=00\n",
    "\n",
    "- five digit place (cities) codes: Philadelphia and Pittsburgh cities -> 60000,61000\n",
    "- two digit state code: Pennsylvania -> 42"
   ]
  },
  {
   "cell_type": "code",
   "execution_count": 21,
   "metadata": {},
   "outputs": [
    {
     "name": "stdout",
     "output_type": "stream",
     "text": [
      "[[\"NAME\",\"P001001\",\"state\",\"place\"],\n",
      "[\"Philadelphia city, Pennsylvania\",\"1526006\",\"42\",\"60000\"],\n",
      "[\"Pittsburgh city, Pennsylvania\",\"305704\",\"42\",\"61000\"]]\n"
     ]
    }
   ],
   "source": [
    "# Build dictionary of predicates\n",
    "get_vars = [\"NAME\", \"P001001\"] # <- total population\n",
    "predicates = {}\n",
    "predicates[\"get\"] = \",\".join(get_vars)\n",
    "predicates[\"for\"] = \"place:60000,61000\"\n",
    "predicates[\"in\"] = \"state:42\"\n",
    "\n",
    "# Execute the request\n",
    "r = requests.get(base_url, params=predicates)\n",
    "\n",
    "# Show the response text\n",
    "print(r.text)"
   ]
  },
  {
   "attachments": {},
   "cell_type": "markdown",
   "metadata": {},
   "source": [
    "## 0.1.11 Congressional Districts by State"
   ]
  },
  {
   "cell_type": "code",
   "execution_count": 22,
   "metadata": {},
   "outputs": [],
   "source": [
    "# Build dictionary of predicates and execute the request\n",
    "predicates[\"for\"] = \"congressional district:*\"\n",
    "predicates[\"in\"] = \"state:42\"\n",
    "r = requests.get(base_url, params=predicates)\n",
    "\n",
    "# Construct the DataFrame\n",
    "col_names = [\"name\", \"avg_family_size\", \"state\", \"cd\"]\n",
    "cd = pd.DataFrame(columns=col_names, data=r.json()[1:])"
   ]
  },
  {
   "cell_type": "code",
   "execution_count": 23,
   "metadata": {},
   "outputs": [
    {
     "data": {
      "text/plain": [
       "0    655146\n",
       "1    630277\n",
       "2    640356\n",
       "3    647418\n",
       "4    651762\n",
       "Name: avg_family_size, dtype: object"
      ]
     },
     "execution_count": 23,
     "metadata": {},
     "output_type": "execute_result"
    }
   ],
   "source": [
    "# Print the head of the \"avg_family_size\" column\n",
    "cd['avg_family_size'].head()"
   ]
  },
  {
   "cell_type": "code",
   "execution_count": 24,
   "metadata": {},
   "outputs": [
    {
     "name": "stdout",
     "output_type": "stream",
     "text": [
      "                                                 name  avg_family_size state  \\\n",
      "0   Congressional District 1 (111th Congress), Pen...         655146.0    42   \n",
      "1   Congressional District 2 (111th Congress), Pen...         630277.0    42   \n",
      "2   Congressional District 3 (111th Congress), Pen...         640356.0    42   \n",
      "3   Congressional District 4 (111th Congress), Pen...         647418.0    42   \n",
      "4   Congressional District 5 (111th Congress), Pen...         651762.0    42   \n",
      "5   Congressional District 8 (111th Congress), Pen...         672685.0    42   \n",
      "6   Congressional District 6 (111th Congress), Pen...         726465.0    42   \n",
      "7   Congressional District 7 (111th Congress), Pen...         673623.0    42   \n",
      "8   Congressional District 11 (111th Congress), Pe...         687860.0    42   \n",
      "9   Congressional District 9 (111th Congress), Pen...         666810.0    42   \n",
      "10  Congressional District 10 (111th Congress), Pe...         669257.0    42   \n",
      "11  Congressional District 12 (111th Congress), Pe...         612384.0    42   \n",
      "12  Congressional District 13 (111th Congress), Pe...         674188.0    42   \n",
      "13  Congressional District 14 (111th Congress), Pe...         584493.0    42   \n",
      "14  Congressional District 15 (111th Congress), Pe...         721828.0    42   \n",
      "15  Congressional District 16 (111th Congress), Pe...         723977.0    42   \n",
      "16  Congressional District 17 (111th Congress), Pe...         681835.0    42   \n",
      "17  Congressional District 18 (111th Congress), Pe...         653385.0    42   \n",
      "18  Congressional District 19 (111th Congress), Pe...         728630.0    42   \n",
      "\n",
      "    cd  \n",
      "0   01  \n",
      "1   02  \n",
      "2   03  \n",
      "3   04  \n",
      "4   05  \n",
      "5   08  \n",
      "6   06  \n",
      "7   07  \n",
      "8   11  \n",
      "9   09  \n",
      "10  10  \n",
      "11  12  \n",
      "12  13  \n",
      "13  14  \n",
      "14  15  \n",
      "15  16  \n",
      "16  17  \n",
      "17  18  \n",
      "18  19  \n"
     ]
    }
   ],
   "source": [
    "# Set data type and print\n",
    "cd[\"avg_family_size\"] = cd[\"avg_family_size\"].astype(float)\n",
    "print(cd)"
   ]
  },
  {
   "attachments": {},
   "cell_type": "markdown",
   "metadata": {},
   "source": [
    "## 0.1.12 Zip Code Tabulation Areas"
   ]
  },
  {
   "cell_type": "code",
   "execution_count": 25,
   "metadata": {},
   "outputs": [
    {
     "name": "stdout",
     "output_type": "stream",
     "text": [
      "                                    name  total_pop\n",
      "state zcta                                         \n",
      "01    30165  ZCTA5 30165 (part), Alabama         70\n",
      "      31905  ZCTA5 31905 (part), Alabama          9\n",
      "      35004         ZCTA5 35004, Alabama      10427\n",
      "      35005         ZCTA5 35005, Alabama       7942\n",
      "      35006         ZCTA5 35006, Alabama       3121\n"
     ]
    }
   ],
   "source": [
    "# Build dictionary of predicates and execute the request\n",
    "predicates = {}\n",
    "predicates[\"get\"] = \",\".join([\"NAME\",  \"P001001\"])\n",
    "predicates[\"for\"] = \"zip code tabulation area (or part):*\"\n",
    "predicates[\"in\"] = \"state:01\"\n",
    "r = requests.get(base_url, params=predicates)\n",
    "\n",
    "# Construct the DataFrame\n",
    "col_names = [\"name\", \"total_pop\", \"state\", \"zcta\"]\n",
    "zctas = pd.DataFrame(columns=col_names, data=r.json()[1:])\n",
    "zctas[\"total_pop\"] = zctas[\"total_pop\"].astype(int)\n",
    "\n",
    "# Set multilevel index from GEOIDs and print the head\n",
    "zctas.set_index([\"state\", \"zcta\"], inplace = True)\n",
    "print(zctas.head())"
   ]
  },
  {
   "cell_type": "code",
   "execution_count": 26,
   "metadata": {},
   "outputs": [
    {
     "name": "stdout",
     "output_type": "stream",
     "text": [
      "ok_\n"
     ]
    }
   ],
   "source": [
    "print('ok_')"
   ]
  }
 ],
 "metadata": {
  "kernelspec": {
   "display_name": "Python 3.11.0 64-bit",
   "language": "python",
   "name": "python3"
  },
  "language_info": {
   "codemirror_mode": {
    "name": "ipython",
    "version": 3
   },
   "file_extension": ".py",
   "mimetype": "text/x-python",
   "name": "python",
   "nbconvert_exporter": "python",
   "pygments_lexer": "ipython3",
   "version": "3.11.3"
  },
  "vscode": {
   "interpreter": {
    "hash": "5238573367df39f7286bb46f9ff5f08f63a01a80960060ce41e3c79b190280fa"
   }
  }
 },
 "nbformat": 4,
 "nbformat_minor": 2
}
